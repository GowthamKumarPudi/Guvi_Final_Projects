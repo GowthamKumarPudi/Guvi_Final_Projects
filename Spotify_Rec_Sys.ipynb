{
  "nbformat": 4,
  "nbformat_minor": 0,
  "metadata": {
    "colab": {
      "provenance": [],
      "gpuType": "T4"
    },
    "kernelspec": {
      "name": "python3",
      "display_name": "Python 3"
    },
    "language_info": {
      "name": "python"
    },
    "accelerator": "GPU"
  },
  "cells": [
    {
      "cell_type": "code",
      "source": [
        "import streamlit as st\n",
        "import pandas as pd\n",
        "import numpy as np\n",
        "from sklearn.preprocessing import StandardScaler\n",
        "from sklearn.metrics.pairwise import cosine_similarity"
      ],
      "metadata": {
        "id": "bAwe9QXVfSUG"
      },
      "execution_count": 102,
      "outputs": []
    },
    {
      "cell_type": "code",
      "source": [
        "# === STEP 1: Load & Clean Data ===\n",
        "df = pd.read_csv('/content/0000-1 (1).csv')"
      ],
      "metadata": {
        "id": "Nd3QrK6igmsc"
      },
      "execution_count": 103,
      "outputs": []
    },
    {
      "cell_type": "code",
      "source": [
        "# Drop unwanted index column\n",
        "if 'Unnamed: 0' in df.columns:\n",
        "    df.drop(columns=['Unnamed: 0'], inplace=True)"
      ],
      "metadata": {
        "id": "CVbSkSKmgvvF"
      },
      "execution_count": 104,
      "outputs": []
    },
    {
      "cell_type": "code",
      "source": [
        "# Convert 'explicit' to numeric\n",
        "df['explicit'] = df['explicit'].astype(str).map({'true': 1, 'false': 0})\n",
        "df['explicit'] = df['explicit'].fillna(0)"
      ],
      "metadata": {
        "id": "WTl-MnPMg1KB"
      },
      "execution_count": 105,
      "outputs": []
    },
    {
      "cell_type": "code",
      "source": [
        "# Drop rows with missing values in key features\n",
        "df.dropna(subset=[\n",
        "    'popularity', 'duration_ms', 'explicit', 'danceability', 'energy',\n",
        "    'key', 'loudness', 'mode', 'speechiness', 'acousticness',\n",
        "    'instrumentalness', 'liveness', 'valence', 'tempo', 'time_signature'\n",
        "], inplace=True)"
      ],
      "metadata": {
        "id": "YNhM3ulag8sA"
      },
      "execution_count": 106,
      "outputs": []
    },
    {
      "cell_type": "code",
      "source": [
        "# Select features for recommendation\n",
        "feature_cols = [\n",
        "    'popularity', 'duration_ms', 'explicit', 'danceability', 'energy',\n",
        "    'key', 'loudness', 'mode', 'speechiness', 'acousticness',\n",
        "    'instrumentalness', 'liveness', 'valence', 'tempo', 'time_signature'\n",
        "]\n",
        "\n",
        "df_features = df[feature_cols].copy()\n",
        "df_features.fillna(df_features.mean(numeric_only=True), inplace=True)"
      ],
      "metadata": {
        "id": "mHa8iL4whA-F"
      },
      "execution_count": 107,
      "outputs": []
    },
    {
      "cell_type": "code",
      "source": [
        "# === STEP 2: Scale Data ===\n",
        "scaler = StandardScaler()\n",
        "scaled_features = scaler.fit_transform(df_features)"
      ],
      "metadata": {
        "id": "_WU_wVmjhFWw"
      },
      "execution_count": 108,
      "outputs": []
    },
    {
      "cell_type": "code",
      "source": [
        "# === STEP 3: Get User Input ===\n",
        "# Replace these values with real user input or dynamic input logic\n",
        "user_input = {\n",
        "    'popularity': 70,\n",
        "    'duration_ms': 210000,\n",
        "    'explicit': 0,\n",
        "    'danceability': 0.8,\n",
        "    'energy': 0.7,\n",
        "    'key': 5,\n",
        "    'loudness': -5.0,\n",
        "    'mode': 1,\n",
        "    'speechiness': 0.05,\n",
        "    'acousticness': 0.3,\n",
        "    'instrumentalness': 0.0,\n",
        "    'liveness': 0.1,\n",
        "    'valence': 0.6,\n",
        "    'tempo': 120.0,\n",
        "    'time_signature': 4\n",
        "}\n",
        "\n",
        "user_vector = [user_input[col] for col in feature_cols]\n",
        "user_scaled = scaler.transform([user_vector])"
      ],
      "metadata": {
        "colab": {
          "base_uri": "https://localhost:8080/"
        },
        "id": "hJMwBJRhhJRZ",
        "outputId": "351876bf-67d1-4dc9-d792-5b9700d8b614"
      },
      "execution_count": 109,
      "outputs": [
        {
          "output_type": "stream",
          "name": "stderr",
          "text": [
            "/usr/local/lib/python3.11/dist-packages/sklearn/utils/validation.py:2739: UserWarning: X does not have valid feature names, but StandardScaler was fitted with feature names\n",
            "  warnings.warn(\n"
          ]
        }
      ]
    },
    {
      "cell_type": "code",
      "source": [
        "# === STEP 4: Compute Cosine Similarity ===\n",
        "similarities = cosine_similarity(user_scaled, scaled_features)[0]\n",
        "top_indices = np.argsort(similarities)[::-1][:5]"
      ],
      "metadata": {
        "id": "U7FlbnV1hMN9"
      },
      "execution_count": 110,
      "outputs": []
    },
    {
      "cell_type": "code",
      "source": [
        "# === STEP 5: Show Recommendations ===\n",
        "recommendations = df.iloc[top_indices][['track_name', 'artists', 'track_genre', 'popularity']]\n",
        "print(\"🎧 Top 5 Recommended Tracks:\")\n",
        "print(recommendations.to_string(index=False))"
      ],
      "metadata": {
        "colab": {
          "base_uri": "https://localhost:8080/"
        },
        "id": "rvl9DojDhOkR",
        "outputId": "e852d228-54e5-43d5-95b1-91b37aa5d622"
      },
      "execution_count": 111,
      "outputs": [
        {
          "output_type": "stream",
          "name": "stdout",
          "text": [
            "🎧 Top 5 Recommended Tracks:\n",
            "               track_name             artists track_genre  popularity\n",
            "             KESI - Remix Camilo;Shawn Mendes   reggaeton          76\n",
            "             KESI - Remix Camilo;Shawn Mendes      reggae          76\n",
            "Mafiosa (feat. Caroliina)  Lartiste;Caroliina      french          65\n",
            "                Yes or No              Brando  deep-house          64\n",
            "                   So Bad             高爾宣 OSN    mandopop          56\n"
          ]
        }
      ]
    },
    {
      "cell_type": "code",
      "source": [
        "%%writefile my_app.py\n",
        "\n",
        "import streamlit as st\n",
        "import pandas as pd\n",
        "import numpy as np\n",
        "from sklearn.preprocessing import StandardScaler\n",
        "from sklearn.metrics.pairwise import cosine_similarity\n",
        "\n",
        "@st.cache_data\n",
        "def load_data():\n",
        "    df = pd.read_csv('/content/0000-1 (1).csv')\n",
        "\n",
        "    # Drop unwanted index column if it exists\n",
        "    if 'Unnamed: 0' in df.columns:\n",
        "        df.drop(columns=['Unnamed: 0'], inplace=True)\n",
        "\n",
        "    # Drop rows with missing values in key features\n",
        "    df.dropna(subset=[\n",
        "        'popularity', 'duration_ms', 'explicit', 'danceability', 'energy',\n",
        "        'key', 'loudness', 'mode', 'speechiness', 'acousticness',\n",
        "        'instrumentalness', 'liveness', 'valence', 'tempo', 'time_signature'\n",
        "    ], inplace=True)\n",
        "\n",
        "    # Convert 'explicit' to numeric\n",
        "    df['explicit'] = df['explicit'].astype(str).map({'true': 1, 'false': 0})\n",
        "    df['explicit'] = df['explicit'].fillna(0)\n",
        "\n",
        "    # Drop non-numeric columns\n",
        "    df_numeric = df.drop(columns=['track_id', 'track_name', 'artists', 'album_name', 'track_genre'])\n",
        "\n",
        "    # Fill any unexpected NaNs with column means\n",
        "    df_numeric = df_numeric.fillna(df_numeric.mean(numeric_only=True))\n",
        "\n",
        "    # Scale\n",
        "    scaler = StandardScaler()\n",
        "    scaled = scaler.fit_transform(df_numeric)\n",
        "\n",
        "    return df, df_numeric.columns.tolist(), scaler, scaled\n",
        "\n",
        "\n",
        "# Load data\n",
        "df, feature_cols, scaler, scaled_features = load_data()\n",
        "\n",
        "# App Title\n",
        "st.title(\"🎧Spotify Song Recommender\")\n",
        "st.markdown(\"Adjust the audio features below to get personalized song suggestions.\")\n",
        "\n",
        "# Collect user inputs\n",
        "user_inputs = []\n",
        "for col in feature_cols:\n",
        "    if col == 'explicit':\n",
        "        val = st.selectbox(f'{col}', [0, 1], index=0)\n",
        "    elif col in ['key', 'mode', 'time_signature']:\n",
        "        val = st.number_input(f'{col} (integer)', value=0, step=1)\n",
        "    elif col == 'tempo':\n",
        "        val = st.slider(f'{col} (BPM)', 40.0, 220.0, 120.0)\n",
        "    elif col == 'loudness':\n",
        "        val = st.slider(f'{col} (dB)', -60.0, 0.0, -10.0)\n",
        "    else:\n",
        "        val = st.slider(f'{col}', 0.0, 1.0, 0.5)\n",
        "\n",
        "    # Ensure no NaN values\n",
        "    if pd.isna(val):\n",
        "        val = 0.0\n",
        "    user_inputs.append(val)\n",
        "\n",
        "# Recommend songs\n",
        "if st.button(\"Recommend🎧\"):\n",
        "    try:\n",
        "        user_scaled = scaler.transform([user_inputs])\n",
        "        similarities = cosine_similarity(user_scaled, scaled_features)[0]\n",
        "        indices = np.argsort(similarities)[::-1][:5]\n",
        "        results = df.iloc[indices][['track_name', 'artists', 'track_genre', 'popularity']]\n",
        "        st.subheader(\"🔥Top Recommendations\")\n",
        "        st.table(results)\n",
        "    except Exception as e:\n",
        "        st.error(f\"Error: {e}\")\n"
      ],
      "metadata": {
        "colab": {
          "base_uri": "https://localhost:8080/"
        },
        "id": "43kJnCSSbQIO",
        "outputId": "4d17a2fd-2ba3-4918-d718-e5ca48ea25ee"
      },
      "execution_count": 112,
      "outputs": [
        {
          "output_type": "stream",
          "name": "stdout",
          "text": [
            "Overwriting my_app.py\n"
          ]
        }
      ]
    },
    {
      "cell_type": "code",
      "source": [
        "!wget -q -O - ipv4.icanhazip.com"
      ],
      "metadata": {
        "colab": {
          "base_uri": "https://localhost:8080/"
        },
        "id": "jIwe_MBrbYMR",
        "outputId": "585d0f12-f5cd-40ef-badd-dbeef4ac4e49"
      },
      "execution_count": 113,
      "outputs": [
        {
          "output_type": "stream",
          "name": "stdout",
          "text": [
            "34.125.105.55\n"
          ]
        }
      ]
    },
    {
      "cell_type": "code",
      "source": [
        "!npm install localtunnel"
      ],
      "metadata": {
        "colab": {
          "base_uri": "https://localhost:8080/"
        },
        "collapsed": true,
        "id": "PbGsPi7YbdUV",
        "outputId": "4c54405f-6cc4-4781-da97-f6831d4df467"
      },
      "execution_count": 114,
      "outputs": [
        {
          "output_type": "stream",
          "name": "stdout",
          "text": [
            "\u001b[1G\u001b[0K⠙\u001b[1G\u001b[0K⠹\u001b[1G\u001b[0K⠸\u001b[1G\u001b[0K⠼\u001b[1G\u001b[0K⠴\u001b[1G\u001b[0K⠦\u001b[1G\u001b[0K⠧\u001b[1G\u001b[0K⠇\u001b[1G\u001b[0K⠏\u001b[1G\u001b[0K⠋\u001b[1G\u001b[0K\u001b[1mnpm\u001b[22m \u001b[33mwarn\u001b[39m \u001b[94mdeprecated\u001b[39m debug@4.1.1: Debug versions >=3.2.0 <3.2.7 || >=4 <4.3.1 have a low-severity ReDos regression when used in a Node.js environment. It is recommended you upgrade to 3.2.7 or 4.3.1. (https://github.com/visionmedia/debug/issues/797)\n",
            "\u001b[1G\u001b[0K⠋\u001b[1G\u001b[0K\u001b[1mnpm\u001b[22m \u001b[33mwarn\u001b[39m \u001b[94mdeprecated\u001b[39m axios@0.19.0: Critical security vulnerability fixed in v0.21.1. For more information, see https://github.com/axios/axios/pull/3410\n",
            "\u001b[1G\u001b[0K⠋\u001b[1G\u001b[0K⠙\u001b[1G\u001b[0K⠹\u001b[1G\u001b[0K\n",
            "added 38 packages, removed 74 packages, changed 5 packages, and audited 60 packages in 1s\n",
            "\u001b[1G\u001b[0K⠹\u001b[1G\u001b[0K\n",
            "\u001b[1G\u001b[0K⠹\u001b[1G\u001b[0K5 packages are looking for funding\n",
            "\u001b[1G\u001b[0K⠹\u001b[1G\u001b[0K  run `npm fund` for details\n",
            "\u001b[1G\u001b[0K⠹\u001b[1G\u001b[0K\n",
            "\u001b[31m\u001b[1m6\u001b[22m\u001b[39m vulnerabilities (1 \u001b[1mlow\u001b[22m, 2 \u001b[33m\u001b[1mmoderate\u001b[22m\u001b[39m, 3 \u001b[31m\u001b[1mhigh\u001b[22m\u001b[39m)\n",
            "\n",
            "To address all issues (including breaking changes), run:\n",
            "  npm audit fix --force\n",
            "\n",
            "Run `npm audit` for details.\n",
            "\u001b[1G\u001b[0K⠹\u001b[1G\u001b[0K"
          ]
        }
      ]
    },
    {
      "cell_type": "code",
      "source": [
        "!npm audit fix --force"
      ],
      "metadata": {
        "collapsed": true,
        "colab": {
          "base_uri": "https://localhost:8080/"
        },
        "id": "uH5cmhi_bjRB",
        "outputId": "111bdd1a-bcad-4911-e138-ac3800a0b931"
      },
      "execution_count": 115,
      "outputs": [
        {
          "output_type": "stream",
          "name": "stdout",
          "text": [
            "\u001b[1mnpm\u001b[22m \u001b[33mwarn\u001b[39m \u001b[94musing --force\u001b[39m Recommended protections disabled.\n",
            "\u001b[1G\u001b[0K⠙\u001b[1G\u001b[0K⠹\u001b[1G\u001b[0K⠸\u001b[1G\u001b[0K⠼\u001b[1G\u001b[0K\u001b[1mnpm\u001b[22m \u001b[33mwarn\u001b[39m \u001b[94maudit\u001b[39m Updating localtunnel to 2.0.2, which is a SemVer major change.\n",
            "\u001b[1G\u001b[0K⠼\u001b[1G\u001b[0K⠴\u001b[1G\u001b[0K⠦\u001b[1G\u001b[0K⠧\u001b[1G\u001b[0K⠇\u001b[1G\u001b[0K\n",
            "added 5 packages, removed 42 packages, changed 15 packages, and audited 23 packages in 970ms\n",
            "\u001b[1G\u001b[0K⠇\u001b[1G\u001b[0K\n",
            "\u001b[1G\u001b[0K⠇\u001b[1G\u001b[0K3 packages are looking for funding\n",
            "\u001b[1G\u001b[0K⠇\u001b[1G\u001b[0K  run `npm fund` for details\n",
            "\u001b[1G\u001b[0K⠇\u001b[1G\u001b[0K\n",
            "\u001b[1m# npm audit report\u001b[22m\n",
            "\n",
            "\u001b[1maxios\u001b[22m  <=0.29.0\n",
            "Severity: \u001b[31m\u001b[1mhigh\u001b[22m\u001b[39m\n",
            "\u001b[1mAxios Cross-Site Request Forgery Vulnerability\u001b[22m - https://github.com/advisories/GHSA-wf5p-g6vw-rhxx\n",
            "\u001b[1maxios Requests Vulnerable To Possible SSRF and Credential Leakage via Absolute URL\u001b[22m - https://github.com/advisories/GHSA-jr5f-v2jv-69x6\n",
            "\u001b[33m\u001b[1mfix available\u001b[22m\u001b[39m via `npm audit fix --force`\n",
            "Will install localtunnel@1.8.3, which is a breaking change\n",
            "\u001b[2mnode_modules/axios\u001b[22m\n",
            "  \u001b[1mlocaltunnel\u001b[22m  >=1.9.0\n",
            "  Depends on vulnerable versions of \u001b[1maxios\u001b[22m\n",
            "  \u001b[2mnode_modules/localtunnel\u001b[22m\n",
            "\n",
            "2 \u001b[31m\u001b[1mhigh\u001b[22m\u001b[39m severity vulnerabilities\n",
            "\n",
            "To address all issues (including breaking changes), run:\n",
            "  npm audit fix --force\n",
            "\u001b[1G\u001b[0K⠇\u001b[1G\u001b[0K"
          ]
        }
      ]
    },
    {
      "cell_type": "code",
      "source": [
        "! streamlit run my_app.py & npx localtunnel --port 8501"
      ],
      "metadata": {
        "colab": {
          "base_uri": "https://localhost:8080/"
        },
        "id": "RZu3GSNUbpF5",
        "outputId": "86b967f7-26f7-4839-dc18-1a679b06fd13"
      },
      "execution_count": 116,
      "outputs": [
        {
          "output_type": "stream",
          "name": "stdout",
          "text": [
            "\n",
            "Collecting usage statistics. To deactivate, set browser.gatherUsageStats to false.\n",
            "\u001b[0m\n",
            "\u001b[1G\u001b[0K⠙\u001b[1G\u001b[0K\u001b[0m\n",
            "\u001b[34m\u001b[1m  You can now view your Streamlit app in your browser.\u001b[0m\n",
            "\u001b[0m\n",
            "\u001b[34m  Local URL: \u001b[0m\u001b[1mhttp://localhost:8501\u001b[0m\n",
            "\u001b[34m  Network URL: \u001b[0m\u001b[1mhttp://172.28.0.12:8501\u001b[0m\n",
            "\u001b[34m  External URL: \u001b[0m\u001b[1mhttp://34.125.105.55:8501\u001b[0m\n",
            "\u001b[0m\n",
            "your url is: https://sad-bikes-beg.loca.lt\n",
            "/usr/local/lib/python3.11/dist-packages/sklearn/utils/validation.py:2739: UserWarning: X does not have valid feature names, but StandardScaler was fitted with feature names\n",
            "  warnings.warn(\n",
            "\u001b[34m  Stopping...\u001b[0m\n",
            "^C\n"
          ]
        }
      ]
    }
  ]
}